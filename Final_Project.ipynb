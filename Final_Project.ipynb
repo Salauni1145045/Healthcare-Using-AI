{
  "nbformat": 4,
  "nbformat_minor": 0,
  "metadata": {
    "colab": {
      "name": "Final Project.ipynb",
      "provenance": []
    },
    "kernelspec": {
      "name": "python3",
      "display_name": "Python 3"
    },
    "language_info": {
      "name": "python"
    }
  },
  "cells": [
    {
      "cell_type": "code",
      "metadata": {
        "id": "9jRIe_O1bivN"
      },
      "source": [
        "import numpy as np\n",
        "import pandas as pd\n",
        "import tensorflow as tf\n",
        "import keras_preprocessing\n",
        "from keras_preprocessing import image\n",
        "from keras_preprocessing.image import ImageDataGenerator\n",
        "import matplotlib.pyplot as plt\n",
        "import keras\n",
        "from keras.layers import *\n",
        "from keras.models import *"
      ],
      "execution_count": 2,
      "outputs": []
    },
    {
      "cell_type": "code",
      "metadata": {
        "colab": {
          "base_uri": "https://localhost:8080/"
        },
        "id": "2Ll0neufbp3N",
        "outputId": "59e1725f-0c37-4d55-e2ce-c76da9fa4e97"
      },
      "source": [
        "from google.colab import drive\n",
        "drive.mount('/content/gdrive/')"
      ],
      "execution_count": 3,
      "outputs": [
        {
          "output_type": "stream",
          "text": [
            "Mounted at /content/gdrive/\n"
          ],
          "name": "stdout"
        }
      ]
    },
    {
      "cell_type": "code",
      "metadata": {
        "id": "GUa6MbkfM8Kz"
      },
      "source": [
        "BASIS_DIR = '/content/gdrive/My Drive/covid/covid'\n",
        "CLASSES = [\"COVID\",  \"Normal\"]"
      ],
      "execution_count": 4,
      "outputs": []
    },
    {
      "cell_type": "code",
      "metadata": {
        "id": "MRKltS5HxyrV"
      },
      "source": [
        "train_datagen = ImageDataGenerator(\n",
        "    rescale=1./255,\n",
        "    horizontal_flip=True,\n",
        "    shear_range = 0.2,\n",
        "    zoom_range = 0.2,\n",
        "    validation_split=0.2\n",
        ")\n",
        "test_dataset=image.ImageDataGenerator(\n",
        "    rescale=1./255\n",
        ")"
      ],
      "execution_count": 5,
      "outputs": []
    },
    {
      "cell_type": "code",
      "metadata": {
        "id": "4diqiraHRKMR"
      },
      "source": [
        "# #Image augmentation process:\n",
        "# train_datagen = ImageDataGenerator(\n",
        "#     rescale=1./255,\n",
        "#     rotation_range=20,\n",
        "#     horizontal_flip=True,\n",
        "#     shear_range = 0.2,\n",
        "#     zoom_range = 0.2,\n",
        "#     width_shift_range=0.2,\n",
        "#     height_shift_range=0.2,\n",
        "#     fill_mode = 'nearest',\n",
        "    \n",
        "#     #split dataset to training(80%) and validation(20%):\n",
        "#     validation_split=0.2\n",
        "# )"
      ],
      "execution_count": 6,
      "outputs": []
    },
    {
      "cell_type": "code",
      "metadata": {
        "colab": {
          "base_uri": "https://localhost:8080/"
        },
        "id": "b8GOi1ALys6y",
        "outputId": "a7949226-f0d5-4cc9-9111-c69fad8ba494"
      },
      "source": [
        "train_generator = train_datagen.flow_from_directory(\n",
        "    directory=BASIS_DIR,\n",
        "    target_size=(224, 224),\n",
        "    batch_size=32,\n",
        "    shuffle=True,\n",
        "    class_mode='binary',\n",
        "    subset='training',\n",
        "    classes=CLASSES\n",
        ")\n",
        "validation_generator = train_datagen.flow_from_directory(\n",
        "    directory=BASIS_DIR,\n",
        "    target_size=(224, 224),\n",
        "    batch_size=32,\n",
        "    shuffle=True,\n",
        "    class_mode='binary',\n",
        "    subset='training',\n",
        "    classes=CLASSES\n",
        ")"
      ],
      "execution_count": 7,
      "outputs": [
        {
          "output_type": "stream",
          "text": [
            "Found 11047 images belonging to 2 classes.\n",
            "Found 11047 images belonging to 2 classes.\n"
          ],
          "name": "stdout"
        }
      ]
    },
    {
      "cell_type": "code",
      "metadata": {
        "id": "Z8iP19h2RPZU"
      },
      "source": [
        "# # Training dataset and Validation dataset:\n",
        "# train_data = train_datagen.flow_from_directory(\n",
        "#     directory=BASIS_DIR,\n",
        "#     target_size=(299, 299),\n",
        "#     batch_size=32,\n",
        "#     shuffle=True,\n",
        "#     class_mode='binary',\n",
        "#     subset='training',\n",
        "#     classes=CLASSES\n",
        "#     )\n",
        "# val_data = train_datagen.flow_from_directory(\n",
        "#     directory=BASIS_DIR,\n",
        "#     target_size=(299, 299),\n",
        "#     batch_size=32,\n",
        "#     shuffle=True,\n",
        "#     class_mode='binary',\n",
        "#     subset='validation',\n",
        "#     classes=CLASSES\n",
        "#     )"
      ],
      "execution_count": 8,
      "outputs": []
    },
    {
      "cell_type": "code",
      "metadata": {
        "colab": {
          "base_uri": "https://localhost:8080/"
        },
        "id": "T-9I4gVsucjA",
        "outputId": "4169b77a-cc60-4cf2-9ee4-c15002ade840"
      },
      "source": [
        "model = Sequential()\n",
        "model.add(Conv2D(32, kernel_size=(3,3), activation='relu', input_shape=(224, 224, 3)))\n",
        "model.add(Conv2D(64, (3,3), activation='relu'))\n",
        "model.add(MaxPooling2D(pool_size=(2,2)))\n",
        "model.add(Dropout(0.25))\n",
        "\n",
        "model.add(Conv2D(64, (3,3), activation='relu'))\n",
        "model.add(MaxPooling2D(pool_size=(2,2)))\n",
        "model.add(Dropout(0.25))\n",
        "\n",
        "model.add(Conv2D(128, (3,3), activation='relu'))\n",
        "model.add(MaxPooling2D(pool_size=(2,2)))\n",
        "model.add(Dropout(0.25))\n",
        "\n",
        "model.add(Flatten())\n",
        "model.add(Dense(64,activation='relu'))\n",
        "model.add(Dropout(0.5))\n",
        "model.add(Dense(1,activation='sigmoid'))\n",
        "\n",
        "model.compile(loss=keras.losses.binary_crossentropy,optimizer='adam',metrics=['accuracy'])\n",
        "model.summary()"
      ],
      "execution_count": 9,
      "outputs": [
        {
          "output_type": "stream",
          "text": [
            "Model: \"sequential\"\n",
            "_________________________________________________________________\n",
            "Layer (type)                 Output Shape              Param #   \n",
            "=================================================================\n",
            "conv2d (Conv2D)              (None, 222, 222, 32)      896       \n",
            "_________________________________________________________________\n",
            "conv2d_1 (Conv2D)            (None, 220, 220, 64)      18496     \n",
            "_________________________________________________________________\n",
            "max_pooling2d (MaxPooling2D) (None, 110, 110, 64)      0         \n",
            "_________________________________________________________________\n",
            "dropout (Dropout)            (None, 110, 110, 64)      0         \n",
            "_________________________________________________________________\n",
            "conv2d_2 (Conv2D)            (None, 108, 108, 64)      36928     \n",
            "_________________________________________________________________\n",
            "max_pooling2d_1 (MaxPooling2 (None, 54, 54, 64)        0         \n",
            "_________________________________________________________________\n",
            "dropout_1 (Dropout)          (None, 54, 54, 64)        0         \n",
            "_________________________________________________________________\n",
            "conv2d_3 (Conv2D)            (None, 52, 52, 128)       73856     \n",
            "_________________________________________________________________\n",
            "max_pooling2d_2 (MaxPooling2 (None, 26, 26, 128)       0         \n",
            "_________________________________________________________________\n",
            "dropout_2 (Dropout)          (None, 26, 26, 128)       0         \n",
            "_________________________________________________________________\n",
            "flatten (Flatten)            (None, 86528)             0         \n",
            "_________________________________________________________________\n",
            "dense (Dense)                (None, 64)                5537856   \n",
            "_________________________________________________________________\n",
            "dropout_3 (Dropout)          (None, 64)                0         \n",
            "_________________________________________________________________\n",
            "dense_1 (Dense)              (None, 1)                 65        \n",
            "=================================================================\n",
            "Total params: 5,668,097\n",
            "Trainable params: 5,668,097\n",
            "Non-trainable params: 0\n",
            "_________________________________________________________________\n"
          ],
          "name": "stdout"
        }
      ]
    },
    {
      "cell_type": "code",
      "metadata": {
        "id": "1iFELyGrRcq_"
      },
      "source": [
        "# #Using sequential model:\n",
        "# model = tf.keras.models.Sequential([\n",
        "#     tf.keras.layers.Conv2D(32, (3,3), activation='relu', input_shape=(299, 299, 3)),\n",
        "#     tf.keras.layers.MaxPooling2D(2, 2),\n",
        "\n",
        "#     tf.keras.layers.Conv2D(32, (3,3), activation='relu'),\n",
        "#     tf.keras.layers.MaxPooling2D(2,2),\n",
        "\n",
        "#     tf.keras.layers.Conv2D(64, (3,3), activation='relu'),\n",
        "#     tf.keras.layers.MaxPooling2D(2,2),\n",
        "    \n",
        "#     tf.keras.layers.Conv2D(128, (3,3), activation='relu'),\n",
        "#     tf.keras.layers.MaxPooling2D(2,2),\n",
        "\n",
        "#     tf.keras.layers.Flatten(),\n",
        "#     tf.keras.layers.Dense(128, activation='relu'),\n",
        "#     tf.keras.layers.Dense(1, activation='sigmoid')\n",
        "# ])\n",
        "\n",
        "# model.summary()"
      ],
      "execution_count": 10,
      "outputs": []
    },
    {
      "cell_type": "code",
      "metadata": {
        "colab": {
          "base_uri": "https://localhost:8080/"
        },
        "id": "YH24E3RS0NA1",
        "outputId": "ba7d2474-bba0-408b-b688-d8752ed0f545"
      },
      "source": [
        "history =model.fit_generator(\n",
        "    train_generator,\n",
        "    steps_per_epoch=8,\n",
        "    epochs=10,\n",
        "    validation_data=validation_generator,\n",
        "    verbose=2\n",
        ")"
      ],
      "execution_count": 11,
      "outputs": [
        {
          "output_type": "stream",
          "text": [
            "/usr/local/lib/python3.7/dist-packages/keras/engine/training.py:1972: UserWarning: `Model.fit_generator` is deprecated and will be removed in a future version. Please use `Model.fit`, which supports generators.\n",
            "  warnings.warn('`Model.fit_generator` is deprecated and '\n"
          ],
          "name": "stderr"
        },
        {
          "output_type": "stream",
          "text": [
            "Epoch 1/10\n",
            "8/8 - 4092s - loss: 1.4587 - accuracy: 0.5625 - val_loss: 0.6099 - val_accuracy: 0.7381\n",
            "Epoch 2/10\n",
            "8/8 - 650s - loss: 0.5331 - accuracy: 0.7773 - val_loss: 0.6021 - val_accuracy: 0.7381\n",
            "Epoch 3/10\n",
            "8/8 - 650s - loss: 0.6269 - accuracy: 0.7227 - val_loss: 0.6421 - val_accuracy: 0.7381\n",
            "Epoch 4/10\n",
            "8/8 - 651s - loss: 0.6099 - accuracy: 0.7422 - val_loss: 0.6303 - val_accuracy: 0.7381\n",
            "Epoch 5/10\n",
            "8/8 - 650s - loss: 0.6100 - accuracy: 0.7070 - val_loss: 0.5984 - val_accuracy: 0.7381\n",
            "Epoch 6/10\n",
            "8/8 - 651s - loss: 0.5721 - accuracy: 0.7500 - val_loss: 0.6161 - val_accuracy: 0.7381\n",
            "Epoch 7/10\n",
            "8/8 - 649s - loss: 0.6125 - accuracy: 0.7148 - val_loss: 0.5684 - val_accuracy: 0.7381\n",
            "Epoch 8/10\n",
            "8/8 - 647s - loss: 0.6396 - accuracy: 0.7070 - val_loss: 0.6113 - val_accuracy: 0.7381\n",
            "Epoch 9/10\n",
            "8/8 - 645s - loss: 0.5489 - accuracy: 0.7891 - val_loss: 0.5661 - val_accuracy: 0.7381\n",
            "Epoch 10/10\n",
            "8/8 - 646s - loss: 0.5438 - accuracy: 0.7852 - val_loss: 0.5643 - val_accuracy: 0.7381\n"
          ],
          "name": "stdout"
        }
      ]
    },
    {
      "cell_type": "code",
      "metadata": {
        "id": "zH8_2GrgR2qj"
      },
      "source": [
        "# Compiling model with 'adam' optimizer loss function 'binary_crossentropy'\n",
        "# model.compile(loss='binary_crossentropy',\n",
        "#               optimizer=tf.optimizers.Adam(),\n",
        "#               metrics=['accuracy']\n",
        "#              )"
      ],
      "execution_count": 12,
      "outputs": []
    },
    {
      "cell_type": "code",
      "metadata": {
        "id": "V_a0R8fZR__n"
      },
      "source": [
        "# # Training process:\n",
        "# number_epochs = 5\n",
        "# # You can change number_epochs above. But the bigger the value, the more time it takes for training\n",
        "# history = model.fit(train_data, epochs=number_epochs, \n",
        "#                     validation_data=val_data, verbose=2)"
      ],
      "execution_count": 13,
      "outputs": []
    },
    {
      "cell_type": "code",
      "metadata": {
        "colab": {
          "base_uri": "https://localhost:8080/",
          "height": 295
        },
        "id": "Z_o3427wSGgh",
        "outputId": "a4f87bb3-419a-4f57-89c5-ee139119bc82"
      },
      "source": [
        "plt.plot(history.history['accuracy'], 'g', label='Training Accuracy')\n",
        "plt.plot(history.history['val_accuracy'], 'y', label='Validation Accuracy')\n",
        "plt.title('Training and Validation Accuracy')\n",
        "plt.ylabel('Accuracy')\n",
        "plt.xlabel('Iterations')\n",
        "plt.legend(loc=0)\n",
        "plt.show()\n",
        "\n"
      ],
      "execution_count": 14,
      "outputs": [
        {
          "output_type": "display_data",
          "data": {
            "image/png": "[encoded data removed]",
            "text/plain": [
              "<Figure size 432x288 with 1 Axes>"
            ]
          },
          "metadata": {
            "tags": [],
            "needs_background": "light"
          }
        }
      ]
    },
    {
      "cell_type": "code",
      "metadata": {
        "colab": {
          "base_uri": "https://localhost:8080/",
          "height": 295
        },
        "id": "Dff18SHhn5TB",
        "outputId": "65499c13-579c-40de-8b26-57f15bd2ba5a"
      },
      "source": [
        "plt.plot(history.history['loss'], 'g', label='Training Loss')\n",
        "plt.plot(history.history['val_loss'], 'y', label='Validation Loss')\n",
        "plt.title('Training and Validation Loss')\n",
        "plt.ylabel('Loss')\n",
        "plt.xlabel('Iterations')\n",
        "plt.legend(loc=0)\n",
        "plt.show()"
      ],
      "execution_count": 15,
      "outputs": [
        {
          "output_type": "display_data",
          "data": {
            "image/png": "[encoded data removed]",
            "text/plain": [
              "<Figure size 432x288 with 1 Axes>"
            ]
          },
          "metadata": {
            "tags": [],
            "needs_background": "light"
          }
        }
      ]
    },
    {
      "cell_type": "code",
      "metadata": {
        "id": "njGJwnIA3bGl"
      },
      "source": [
        ""
      ],
      "execution_count": 15,
      "outputs": []
    }
  ]
}